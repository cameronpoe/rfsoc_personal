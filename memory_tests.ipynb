{
 "cells": [
  {
   "cell_type": "code",
   "execution_count": 1,
   "id": "ded8edc9",
   "metadata": {},
   "outputs": [],
   "source": [
    "import matplotlib.pyplot as plt\n",
    "import numpy as np\n",
    "from datetime import datetime, timezone, timedelta\n",
    "import pytz\n",
    "import time\n",
    "from scipy.optimize import curve_fit\n",
    "from scipy.signal import find_peaks\n",
    "\n",
    "def get_samples(num_samples, SAVE_PATH=''):\n",
    "    \n",
    "    cdata = np.empty((3,num_samples), dtype=np.complex128)\n",
    "    # ADC_A is channel[3], ADC_C is channel[1], ADC_D is channel[0]\n",
    "    for i, j in enumerate([3,1,0]):\n",
    "        cdata[i,:] = np.array(base.radio.receiver.channel[j].transfer(num_samples))\n",
    "    \n",
    "    if SAVE_PATH:\n",
    "        np.save('data/' + SAVE_PATH, cdata)\n",
    "    \n",
    "    return cdata"
   ]
  },
  {
   "cell_type": "code",
   "execution_count": 2,
   "id": "a5a723f6",
   "metadata": {},
   "outputs": [
    {
     "data": {
      "application/javascript": [
       "\n",
       "try {\n",
       "require(['notebook/js/codecell'], function(codecell) {\n",
       "  codecell.CodeCell.options_default.highlight_modes[\n",
       "      'magic_text/x-csrc'] = {'reg':[/^%%microblaze/]};\n",
       "  Jupyter.notebook.events.one('kernel_ready.Kernel', function(){\n",
       "      Jupyter.notebook.get_cells().map(function(cell){\n",
       "          if (cell.cell_type == 'code'){ cell.auto_highlight(); } }) ;\n",
       "  });\n",
       "});\n",
       "} catch (e) {};\n"
      ]
     },
     "metadata": {},
     "output_type": "display_data"
    },
    {
     "data": {
      "application/javascript": [
       "\n",
       "try {\n",
       "require(['notebook/js/codecell'], function(codecell) {\n",
       "  codecell.CodeCell.options_default.highlight_modes[\n",
       "      'magic_text/x-csrc'] = {'reg':[/^%%pybind11/]};\n",
       "  Jupyter.notebook.events.one('kernel_ready.Kernel', function(){\n",
       "      Jupyter.notebook.get_cells().map(function(cell){\n",
       "          if (cell.cell_type == 'code'){ cell.auto_highlight(); } }) ;\n",
       "  });\n",
       "});\n",
       "} catch (e) {};\n"
      ]
     },
     "metadata": {},
     "output_type": "display_data"
    }
   ],
   "source": [
    "from pynq.overlays.base import BaseOverlay\n",
    "import xrfdc\n",
    "import xrfclk\n",
    "base = BaseOverlay('base.bit')\n",
    "base.init_rf_clks()\n",
    "\n",
    "# DAC_A - Checked, working\n",
    "base.radio.transmitter.channel[1].dac_block.MixerSettings['Freq'] = 1200 # MHz\n",
    "base.radio.transmitter.channel[1].control.gain = 0.5\n",
    "base.radio.transmitter.channel[1].control.enable = True\n",
    "\n",
    "# DAC_B\n",
    "base.radio.transmitter.channel[0].dac_block.MixerSettings['Freq'] = 1200 # MHz\n",
    "base.radio.transmitter.channel[0].control.gain = 0.5\n",
    "base.radio.transmitter.channel[0].control.enable = False"
   ]
  },
  {
   "cell_type": "code",
   "execution_count": 17,
   "id": "ae873fca",
   "metadata": {},
   "outputs": [
    {
     "name": "stdout",
     "output_type": "stream",
     "text": [
      "CPU times: user 462 ms, sys: 12.2 ms, total: 474 ms\n",
      "Wall time: 860 ms\n"
     ]
    }
   ],
   "source": [
    "%%time\n",
    "num_samples = 32768\n",
    "iterations = 1\n",
    "\n",
    "# 1x 100 pass completed, no issue\n",
    "# 1x 1000 pass completed, no issue\n",
    "# 2x 200 pass completed, no issue\n",
    "# 1x 400 pass completed, no issue\n",
    "for i in range(iterations):\n",
    "    try:\n",
    "        cdata = get_samples(num_samples)\n",
    "    except:\n",
    "        print(f'Iteration: {i}')\n",
    "        raise"
   ]
  },
  {
   "cell_type": "code",
   "execution_count": null,
   "id": "2baa63d7",
   "metadata": {},
   "outputs": [],
   "source": [
    "%%time\n",
    "num_samples = 32768\n",
    "iterations = 1000\n",
    "\n",
    "# 1x 1 pass completed, no issue\n",
    "# 1x 10 pass completed, no issue\n",
    "# 1x 100 pass completed, no issue\n",
    "# 1x 1000 pass \n",
    "iter_array = np.empty((iterations,3,num_samples), dtype=np.complex128)\n",
    "for i in range(iterations):\n",
    "    try:\n",
    "        cdata = get_samples(num_samples)\n",
    "        iter_array[i] = np.copy(cdata)\n",
    "    except:\n",
    "        print(f'Iteration: {i}')\n",
    "        raise"
   ]
  },
  {
   "cell_type": "code",
   "execution_count": null,
   "id": "4c2d8d3b",
   "metadata": {},
   "outputs": [],
   "source": []
  }
 ],
 "metadata": {
  "kernelspec": {
   "display_name": "Python 3",
   "language": "python",
   "name": "python3"
  },
  "language_info": {
   "codemirror_mode": {
    "name": "ipython",
    "version": 3
   },
   "file_extension": ".py",
   "mimetype": "text/x-python",
   "name": "python",
   "nbconvert_exporter": "python",
   "pygments_lexer": "ipython3",
   "version": "3.8.2"
  }
 },
 "nbformat": 4,
 "nbformat_minor": 5
}
