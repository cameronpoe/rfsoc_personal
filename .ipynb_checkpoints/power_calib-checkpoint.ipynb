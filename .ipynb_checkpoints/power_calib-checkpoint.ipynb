{
 "cells": [
  {
   "cell_type": "code",
   "execution_count": 1,
   "id": "f12e2ea1",
   "metadata": {},
   "outputs": [],
   "source": [
    "import numpy as np\n",
    "import matplotlib.pyplot as plt\n",
    "from scipy.optimize import curve_fit"
   ]
  },
  {
   "cell_type": "code",
   "execution_count": 2,
   "id": "949c09b3",
   "metadata": {},
   "outputs": [],
   "source": [
    "def get_samples(num_samples, SAVE_PATH=''):\n",
    "    \n",
    "    cdata = np.empty((3,num_samples), dtype=np.complex128)\n",
    "    # ADC_A is channel[3], ADC_C is channel[1], ADC_D is channel[0]\n",
    "    for i, j in enumerate([3,1,0]):\n",
    "        cdata[i,:] = np.array(base.radio.receiver.channel[j].transfer(num_samples))\n",
    "    \n",
    "    if SAVE_PATH:\n",
    "        np.save('data/' + SAVE_PATH, cdata)\n",
    "    \n",
    "    return cdata\n",
    "\n",
    "def save_data(data, SAVE_PATH=''):\n",
    "    np.save('data/' + SAVE_PATH, data)\n",
    "    return"
   ]
  },
  {
   "cell_type": "code",
   "execution_count": 3,
   "id": "8d3059b7",
   "metadata": {},
   "outputs": [
    {
     "data": {
      "application/javascript": [
       "\n",
       "try {\n",
       "require(['notebook/js/codecell'], function(codecell) {\n",
       "  codecell.CodeCell.options_default.highlight_modes[\n",
       "      'magic_text/x-csrc'] = {'reg':[/^%%microblaze/]};\n",
       "  Jupyter.notebook.events.one('kernel_ready.Kernel', function(){\n",
       "      Jupyter.notebook.get_cells().map(function(cell){\n",
       "          if (cell.cell_type == 'code'){ cell.auto_highlight(); } }) ;\n",
       "  });\n",
       "});\n",
       "} catch (e) {};\n"
      ]
     },
     "metadata": {},
     "output_type": "display_data"
    },
    {
     "data": {
      "application/javascript": [
       "\n",
       "try {\n",
       "require(['notebook/js/codecell'], function(codecell) {\n",
       "  codecell.CodeCell.options_default.highlight_modes[\n",
       "      'magic_text/x-csrc'] = {'reg':[/^%%pybind11/]};\n",
       "  Jupyter.notebook.events.one('kernel_ready.Kernel', function(){\n",
       "      Jupyter.notebook.get_cells().map(function(cell){\n",
       "          if (cell.cell_type == 'code'){ cell.auto_highlight(); } }) ;\n",
       "  });\n",
       "});\n",
       "} catch (e) {};\n"
      ]
     },
     "metadata": {},
     "output_type": "display_data"
    }
   ],
   "source": [
    "from pynq.overlays.base import BaseOverlay\n",
    "import xrfdc\n",
    "import xrfclk\n",
    "base = BaseOverlay('base.bit')\n",
    "base.init_rf_clks()"
   ]
  },
  {
   "cell_type": "code",
   "execution_count": 4,
   "id": "7c843d77",
   "metadata": {},
   "outputs": [],
   "source": [
    "NUM_SAMP = 32768\n",
    "SAMP_FREQ = 4915.2e6\n",
    "DECIMATION = 2\n",
    "\n",
    "ADC_A_Freq = -1485.\n",
    "\n",
    "times = np.linspace(0, (NUM_SAMP-1)*(DECIMATION/SAMP_FREQ), NUM_SAMP)\n",
    "\n",
    "def mysin(t, A, f, phi, B):\n",
    "    return A*np.sin(2*np.pi*f*t - phi) + B"
   ]
  },
  {
   "cell_type": "code",
   "execution_count": 64,
   "id": "8f98246c",
   "metadata": {},
   "outputs": [],
   "source": [
    "# DAC_A - Just setting to off\n",
    "base.radio.transmitter.channel[1].control.gain = 0.5\n",
    "base.radio.transmitter.channel[1].control.enable = False\n",
    "\n",
    "# DAC_B - Just setting to off\n",
    "base.radio.transmitter.channel[0].control.gain = 0.5\n",
    "base.radio.transmitter.channel[0].control.enable = False\n",
    "\n",
    "# ADC_A\n",
    "base.radio.receiver.channel[3].adc_block.MixerSettings['Freq'] = ADC_A_Freq # MHz\n",
    "base.radio.receiver.channel[3].adc_block.UpdateEvent(xrfdc.EVENT_MIXER)"
   ]
  },
  {
   "cell_type": "code",
   "execution_count": 65,
   "id": "9a77e35b",
   "metadata": {},
   "outputs": [],
   "source": [
    "data = get_samples(NUM_SAMP)\n",
    "# data = np.load('data/20250520_power_calib_2dBm.npy')\n",
    "data = data[0]"
   ]
  },
  {
   "cell_type": "code",
   "execution_count": 66,
   "id": "f549d55f",
   "metadata": {},
   "outputs": [
    {
     "data": {
      "image/png": "[encoded data removed]",
      "text/plain": [
       "<Figure size 432x288 with 1 Axes>"
      ]
     },
     "metadata": {
      "needs_background": "light"
     },
     "output_type": "display_data"
    },
    {
     "name": "stdout",
     "output_type": "stream",
     "text": [
      "Amplitude from I-fit: -0.07772312954916163\n",
      "Computed impedance: 60.40884866915762\n",
      "Amplitude from Q-fit: -0.07772312954916163\n",
      "Amplitude from averaging modulus: 0.07772230824619439\n"
     ]
    }
   ],
   "source": [
    "p0 = [0.2, 1497e6+ADC_A_Freq*1e6, 0, 0]\n",
    "popt, pcov = curve_fit(mysin, times, np.real(data), p0=p0)\n",
    "fig, ax = plt.subplots()\n",
    "ax.plot(times[:256]*1e9, np.real(data)[:256])\n",
    "ax.plot(times[:256]*1e9, mysin(times[:256], *p0))\n",
    "ax.plot(times[:256]*1e9, mysin(times[:256], *popt))\n",
    "plt.show()\n",
    "print(f'Amplitude from I-fit: {popt[0]}')\n",
    "\n",
    "print(f'Computed impedance: {popt[0]*popt[0]/(1e-4)}')\n",
    "\n",
    "popt, pcov = curve_fit(mysin, times, np.real(data), p0=p0)\n",
    "print(f'Amplitude from Q-fit: {popt[0]}')\n",
    "\n",
    "print(f'Amplitude from averaging modulus: {np.average(np.abs(data))}')"
   ]
  },
  {
   "cell_type": "code",
   "execution_count": 67,
   "id": "deff0193",
   "metadata": {},
   "outputs": [],
   "source": [
    "# np.save('data/20250527_power_calib_-10dBm', data)"
   ]
  },
  {
   "cell_type": "code",
   "execution_count": 82,
   "id": "a2daa3c2",
   "metadata": {
    "scrolled": false
   },
   "outputs": [
    {
     "name": "stdout",
     "output_type": "stream",
     "text": [
      "20250527_power_calib_1dBm.npy\n",
      "20250527_power_calib_-8dBm.npy\n",
      "20250527_power_calib_-10dBm.npy\n",
      "20250527_power_calib_-5dBm.npy\n",
      "20250527_power_calib_4dBm.npy\n",
      "20250527_power_calib_3dBm.npy\n",
      "20250527_power_calib_2dBm.npy\n",
      "20250527_power_calib_-3dBm.npy\n",
      "20250527_power_calib_0dBm.npy\n",
      "20250527_power_calib_-1dBm.npy\n",
      "[1.27387528]\n"
     ]
    },
    {
     "data": {
      "image/png": "[encoded data removed]",
      "text/plain": [
       "<Figure size 864x576 with 1 Axes>"
      ]
     },
     "metadata": {
      "needs_background": "light"
     },
     "output_type": "display_data"
    }
   ],
   "source": [
    "import os \n",
    "times = np.linspace(0, (NUM_SAMP-1)*(DECIMATION/SAMP_FREQ), NUM_SAMP)\n",
    "prefix = '20250527_power_calib'\n",
    "volt_power = []\n",
    "for file in os.listdir('data/'):\n",
    "    if not prefix in file:\n",
    "        continue\n",
    "    print(file)\n",
    "    dBm = int(file.split('_')[-1][:-7])\n",
    "    power = 10**(dBm/10.) # in mW\n",
    "    data = np.load('data/' + file)\n",
    "#     data = data[0] # ADC_A data\n",
    "    p0 = [0.2, 1497e6+ADC_A_Freq*1e6, 0, 0]\n",
    "    try:\n",
    "        popt, pcov = curve_fit(mysin, times, np.real(data), p0=p0)\n",
    "    except:\n",
    "        fig, ax = plt.subplots()\n",
    "        ax.plot(times[:256], np.real(data[:256]))\n",
    "        ax.plot(times[:256], mysin(times[:256], *p0))\n",
    "        plt.show()\n",
    "    voltage = np.abs(popt[0])\n",
    "    volt_power.append([voltage, power])\n",
    "volt_power = np.array(volt_power)\n",
    "\n",
    "def myquadratic(x, A):\n",
    "    return A*x*x\n",
    "\n",
    "def myline(x, m):\n",
    "    return m*x\n",
    "\n",
    "p0 = [1.]\n",
    "volt_power[:,0] /= np.sqrt(2) # converts amplitude into V_rms\n",
    "volt_power[:,1] = np.sqrt(volt_power[:,1]*1e-3*50) # converts power into V_rms\n",
    "popt, pcov = curve_fit(myline, volt_power[:,0], volt_power[:,1], p0=p0)\n",
    "print(popt)\n",
    "\n",
    "fig, ax = plt.subplots(figsize=(12,8))\n",
    "ax.scatter(volt_power[:,0], volt_power[:,1],color='black', label='Raw data')\n",
    "domain = np.linspace(min(volt_power[:,0]), max(volt_power[:,0]), 200)\n",
    "ax.plot(domain, myline(domain, *popt), color='red', label=f'$y=mx$ fit, $m =${round(popt[0], 3)}')\n",
    "ax.legend()\n",
    "ax.set_title('ADC_A Gain Calibration', fontdict=dict(size=15))\n",
    "ax.set_xlabel(r'I-data $V_{\\rm{RMS}}$ (V)', fontdict=dict(size=14))\n",
    "ax.set_ylabel(r'ERASynth $V_{\\rm{RMS}}$ (V)', fontdict=dict(size=14))\n",
    "ax.xaxis.set_ticks_position('both')\n",
    "ax.yaxis.set_ticks_position('both')\n",
    "plt.minorticks_on()\n",
    "plt.show()"
   ]
  },
  {
   "cell_type": "code",
   "execution_count": 83,
   "id": "da1ead34",
   "metadata": {},
   "outputs": [],
   "source": [
    "np.save('calib/gain', popt)"
   ]
  },
  {
   "cell_type": "code",
   "execution_count": null,
   "id": "f994efe9",
   "metadata": {},
   "outputs": [],
   "source": []
  }
 ],
 "metadata": {
  "kernelspec": {
   "display_name": "Python 3",
   "language": "python",
   "name": "python3"
  },
  "language_info": {
   "codemirror_mode": {
    "name": "ipython",
    "version": 3
   },
   "file_extension": ".py",
   "mimetype": "text/x-python",
   "name": "python",
   "nbconvert_exporter": "python",
   "pygments_lexer": "ipython3",
   "version": "3.8.2"
  }
 },
 "nbformat": 4,
 "nbformat_minor": 5
}
